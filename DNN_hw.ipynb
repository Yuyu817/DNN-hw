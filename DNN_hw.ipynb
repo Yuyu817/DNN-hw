{
  "nbformat": 4,
  "nbformat_minor": 0,
  "metadata": {
    "colab": {
      "provenance": [],
      "gpuType": "T4",
      "authorship_tag": "ABX9TyP+ZPAM9q6GVunlbiZFashL",
      "include_colab_link": true
    },
    "kernelspec": {
      "name": "python3",
      "display_name": "Python 3"
    },
    "language_info": {
      "name": "python"
    },
    "accelerator": "GPU"
  },
  "cells": [
    {
      "cell_type": "markdown",
      "metadata": {
        "id": "view-in-github",
        "colab_type": "text"
      },
      "source": [
        "<a href=\"https://colab.research.google.com/github/Yuyu817/DNN-hw/blob/machine-learning/DNN_hw.ipynb\" target=\"_parent\"><img src=\"https://colab.research.google.com/assets/colab-badge.svg\" alt=\"Open In Colab\"/></a>"
      ]
    },
    {
      "cell_type": "markdown",
      "source": [
        "安裝匯入各種套件"
      ],
      "metadata": {
        "id": "Zm39X8_ruvL5"
      }
    },
    {
      "cell_type": "code",
      "execution_count": null,
      "metadata": {
        "id": "dPFkwdjgXIyM"
      },
      "outputs": [],
      "source": [
        "%matplotlib inline\n",
        "\n",
        "import numpy as np\n",
        "import matplotlib.pyplot as plt\n",
        "import pandas as pd\n",
        "import os\n",
        "import glob\n"
      ]
    },
    {
      "cell_type": "code",
      "source": [
        "from tensorflow.keras.utils import to_categorical\n",
        "from tensorflow.keras.models import Sequential\n",
        "from tensorflow.keras.layers import Dense\n",
        "from tensorflow.keras.optimizers import SGD\n",
        "from tensorflow.keras.layers import Conv2D\n",
        "from tensorflow.keras.layers import Flatten\n",
        "from tensorflow.keras.layers import MaxPooling2D"
      ],
      "metadata": {
        "id": "4DYcmvciXPbR"
      },
      "execution_count": null,
      "outputs": []
    },
    {
      "cell_type": "markdown",
      "source": [
        "檢查是否使用 GPU"
      ],
      "metadata": {
        "id": "y_sU1xUDXWpF"
      }
    },
    {
      "cell_type": "code",
      "source": [
        "import tensorflow as tf\n",
        "tf.test.gpu_device_name()"
      ],
      "metadata": {
        "colab": {
          "base_uri": "https://localhost:8080/",
          "height": 36
        },
        "id": "QooRwQfKXX0z",
        "outputId": "828b48f3-eaf8-4635-e8d1-bb1f40d5c7cc"
      },
      "execution_count": null,
      "outputs": [
        {
          "output_type": "execute_result",
          "data": {
            "text/plain": [
              "'/device:GPU:0'"
            ],
            "application/vnd.google.colaboratory.intrinsic+json": {
              "type": "string"
            }
          },
          "metadata": {},
          "execution_count": 4
        }
      ]
    },
    {
      "cell_type": "markdown",
      "metadata": {
        "id": "YFAuY0TBWo5A"
      },
      "source": [
        "想進一步知道用了什麼 GPU"
      ]
    },
    {
      "cell_type": "code",
      "source": [
        "!nvidia-smi -L"
      ],
      "metadata": {
        "colab": {
          "base_uri": "https://localhost:8080/"
        },
        "id": "5ilYw5QwXavL",
        "outputId": "9be545c4-9a6d-4427-9b09-2be7fa16f472"
      },
      "execution_count": null,
      "outputs": [
        {
          "output_type": "stream",
          "name": "stdout",
          "text": [
            "GPU 0: Tesla T4 (UUID: GPU-3e744ede-af6b-52a5-1e9d-3c79182c1ccf)\n"
          ]
        }
      ]
    },
    {
      "cell_type": "markdown",
      "source": [
        "讀入CIFAR-10 數據集\n",
        " ( CIFAR-10 數據集是用於機器視覺領域的圖像分類數據集，它有飛機、汽車、鳥類、貓、鹿、狗、青蛙、馬、船和卡車共計10個類別的60000 張彩色圖像，尺寸均為32x32，其包 含5 個訓練集和1 個測試集，每個數據集有10000 張圖像。)"
      ],
      "metadata": {
        "id": "Yf7a44eavBqc"
      }
    },
    {
      "cell_type": "code",
      "source": [
        "from tensorflow.keras.datasets import cifar10\n",
        "(x_train, y_train), (x_test, y_test) = cifar10.load_data()"
      ],
      "metadata": {
        "id": "e8wp9nR5ZV_5"
      },
      "execution_count": null,
      "outputs": []
    },
    {
      "cell_type": "markdown",
      "source": [
        "查看數據維度"
      ],
      "metadata": {
        "id": "mckMU8nXvzEq"
      }
    },
    {
      "cell_type": "code",
      "source": [
        "print(\"訓練圖像维度:\", x_train.shape)\n",
        "print(\"測試圖像维度:\", x_test.shape)\n",
        "print(\"訓練標籤维度:\", y_train.shape)\n",
        "print(\"測試標籤维度:\", y_test.shape)"
      ],
      "metadata": {
        "colab": {
          "base_uri": "https://localhost:8080/"
        },
        "id": "3CpYQ1pMayCL",
        "outputId": "95db2837-1cc9-4de2-dc6e-f4fbbfebe7eb"
      },
      "execution_count": null,
      "outputs": [
        {
          "output_type": "stream",
          "name": "stdout",
          "text": [
            "訓練圖像维度: (50000, 32, 32, 3)\n",
            "測試圖像维度: (10000, 32, 32, 3)\n",
            "訓練標籤维度: (50000, 1)\n",
            "測試標籤维度: (10000, 1)\n"
          ]
        }
      ]
    },
    {
      "cell_type": "markdown",
      "source": [
        "資料整理"
      ],
      "metadata": {
        "id": "2TcOB-clwRZp"
      }
    },
    {
      "cell_type": "code",
      "source": [
        "x_train = x_train / 255.0\n",
        "x_test = x_test / 255.0"
      ],
      "metadata": {
        "id": "m0MGaJk_bLTu"
      },
      "execution_count": null,
      "outputs": []
    },
    {
      "cell_type": "markdown",
      "source": [
        "打造神經網路"
      ],
      "metadata": {
        "id": "YY-sHTZkwTj1"
      }
    },
    {
      "cell_type": "code",
      "source": [
        "model = Sequential()"
      ],
      "metadata": {
        "id": "gA4Jiy1wcqWW"
      },
      "execution_count": null,
      "outputs": []
    },
    {
      "cell_type": "code",
      "metadata": {
        "id": "rc1FGyR2yj4q",
        "colab": {
          "base_uri": "https://localhost:8080/"
        },
        "outputId": "c75634c8-263d-41ee-effb-65440923bcaf"
      },
      "source": [
        "model= Sequential()\n",
        "#輸入層\n",
        "model.add(Flatten(input_shape=(32, 32, 3)))\n",
        "model.add(Dense(units=518,\n",
        "                input_dim=3072,\n",
        "                kernel_initializer='normal',\n",
        "                activation='relu'))\n",
        "#隱藏層\n",
        "model.add(Dense(units=256,\n",
        "                kernel_initializer='normal',\n",
        "                activation='relu'))\n",
        "model.add(Dense(units=256,\n",
        "                kernel_initializer='normal',\n",
        "                activation='relu'))\n",
        "#最後架構輸出層，因為 cifar10 總共有10個labels，所以輸出層的大小設定為10個 units\n",
        "model.add(Dense(units=10,\n",
        "                kernel_initializer='normal',\n",
        "                activation='softmax'))\n",
        "model.compile(loss='categorical_crossentropy',\n",
        "              optimizer='adam', metrics=['accuracy'])\n",
        "print(model.summary())"
      ],
      "execution_count": null,
      "outputs": [
        {
          "output_type": "stream",
          "name": "stdout",
          "text": [
            "Model: \"sequential_5\"\n",
            "_________________________________________________________________\n",
            " Layer (type)                Output Shape              Param #   \n",
            "=================================================================\n",
            " flatten_4 (Flatten)         (None, 3072)              0         \n",
            "                                                                 \n",
            " dense_18 (Dense)            (None, 518)               1591814   \n",
            "                                                                 \n",
            " dense_19 (Dense)            (None, 256)               132864    \n",
            "                                                                 \n",
            " dense_20 (Dense)            (None, 128)               32896     \n",
            "                                                                 \n",
            " dense_21 (Dense)            (None, 10)                1290      \n",
            "                                                                 \n",
            "=================================================================\n",
            "Total params: 1758864 (6.71 MB)\n",
            "Trainable params: 1758864 (6.71 MB)\n",
            "Non-trainable params: 0 (0.00 Byte)\n",
            "_________________________________________________________________\n",
            "None\n"
          ]
        }
      ]
    },
    {
      "cell_type": "markdown",
      "source": [
        "訓練"
      ],
      "metadata": {
        "id": "a3fDVIw5w-ee"
      }
    },
    {
      "cell_type": "code",
      "source": [
        "model.fit(x_train, y_train,batch_size=250, epochs=10, validation_data=(x_test, y_test))"
      ],
      "metadata": {
        "colab": {
          "base_uri": "https://localhost:8080/"
        },
        "id": "3yrs3QU9e60H",
        "outputId": "e5e56226-4b9c-4d78-ab04-f811d675f6d5"
      },
      "execution_count": null,
      "outputs": [
        {
          "output_type": "stream",
          "name": "stdout",
          "text": [
            "Epoch 1/10\n",
            "200/200 [==============================] - 3s 8ms/step - loss: 0.9892 - accuracy: 0.6426 - val_loss: 1.4526 - val_accuracy: 0.5215\n",
            "Epoch 2/10\n",
            "200/200 [==============================] - 1s 5ms/step - loss: 0.9633 - accuracy: 0.6521 - val_loss: 1.4650 - val_accuracy: 0.5203\n",
            "Epoch 3/10\n",
            "200/200 [==============================] - 1s 6ms/step - loss: 0.9533 - accuracy: 0.6556 - val_loss: 1.4720 - val_accuracy: 0.5173\n",
            "Epoch 4/10\n",
            "200/200 [==============================] - 1s 6ms/step - loss: 0.9370 - accuracy: 0.6617 - val_loss: 1.4993 - val_accuracy: 0.5218\n",
            "Epoch 5/10\n",
            "200/200 [==============================] - 1s 6ms/step - loss: 0.9227 - accuracy: 0.6650 - val_loss: 1.5010 - val_accuracy: 0.5215\n",
            "Epoch 6/10\n",
            "200/200 [==============================] - 2s 8ms/step - loss: 0.9115 - accuracy: 0.6703 - val_loss: 1.5363 - val_accuracy: 0.5168\n",
            "Epoch 7/10\n",
            "200/200 [==============================] - 2s 8ms/step - loss: 0.8917 - accuracy: 0.6759 - val_loss: 1.5475 - val_accuracy: 0.5176\n",
            "Epoch 8/10\n",
            "200/200 [==============================] - 1s 6ms/step - loss: 0.8788 - accuracy: 0.6827 - val_loss: 1.5385 - val_accuracy: 0.5187\n",
            "Epoch 9/10\n",
            "200/200 [==============================] - 1s 5ms/step - loss: 0.8668 - accuracy: 0.6881 - val_loss: 1.5744 - val_accuracy: 0.5175\n",
            "Epoch 10/10\n",
            "200/200 [==============================] - 1s 5ms/step - loss: 0.8470 - accuracy: 0.6951 - val_loss: 1.5998 - val_accuracy: 0.5151\n"
          ]
        },
        {
          "output_type": "execute_result",
          "data": {
            "text/plain": [
              "<keras.src.callbacks.History at 0x7d44c6d8ef80>"
            ]
          },
          "metadata": {},
          "execution_count": 35
        }
      ]
    },
    {
      "cell_type": "markdown",
      "source": [
        "預測"
      ],
      "metadata": {
        "id": "isdUHstExDYB"
      }
    },
    {
      "cell_type": "code",
      "source": [
        "# 使用模型進行預測\n",
        "predictions = model.predict(x_test)\n",
        "\n",
        "# 隨機選擇一個測試樣本進行預測\n",
        "import random\n",
        "random_index = random.randint(0, len(x_test) - 1)\n",
        "\n",
        "# 獲取該樣本的預測結果\n",
        "predicted_class = tf.argmax(predictions[random_index]).numpy()\n",
        "actual_class = y_test[random_index][0]  # 获取实际类别\n",
        "\n",
        "#把類別從數字轉成中文名稱\n",
        "class_names = [\"飛機\", \"汽車\", \"鳥\", \"貓\", \"鹿\", \"狗\", \"青蛙\", \"馬\", \"船\", \"卡車\"]\n",
        "predicted_class_name = class_names[predicted_class]\n",
        "actual_class_name = class_names[actual_class]\n",
        "\n",
        "# 顯示預測結果\n",
        "print(\"預測類別:\", predicted_class_name)\n",
        "print(\"實際類別:\", actual_class_name)\n",
        "\n",
        "# 顯示圖像\n",
        "import matplotlib.pyplot as plt\n",
        "plt.figure()\n",
        "plt.imshow(x_test[random_index])\n",
        "plt.title(f\"預測: {predicted_class_name}, 實際: {actual_class_name}\")\n",
        "plt.show()"
      ],
      "metadata": {
        "colab": {
          "base_uri": "https://localhost:8080/",
          "height": 732
        },
        "id": "eyN1SDKegDWx",
        "outputId": "54d81909-c73e-43d2-d8ca-b05b58d8b84f"
      },
      "execution_count": null,
      "outputs": [
        {
          "output_type": "stream",
          "name": "stdout",
          "text": [
            "313/313 [==============================] - 1s 2ms/step\n",
            "模型的预测类别: 鹿\n",
            "实际类别: 鳥\n"
          ]
        },
        {
          "output_type": "stream",
          "name": "stderr",
          "text": [
            "/usr/local/lib/python3.10/dist-packages/IPython/core/pylabtools.py:151: UserWarning: Glyph 38928 (\\N{CJK UNIFIED IDEOGRAPH-9810}) missing from current font.\n",
            "  fig.canvas.print_figure(bytes_io, **kw)\n",
            "/usr/local/lib/python3.10/dist-packages/IPython/core/pylabtools.py:151: UserWarning: Glyph 28204 (\\N{CJK UNIFIED IDEOGRAPH-6E2C}) missing from current font.\n",
            "  fig.canvas.print_figure(bytes_io, **kw)\n",
            "/usr/local/lib/python3.10/dist-packages/IPython/core/pylabtools.py:151: UserWarning: Glyph 40575 (\\N{CJK UNIFIED IDEOGRAPH-9E7F}) missing from current font.\n",
            "  fig.canvas.print_figure(bytes_io, **kw)\n",
            "/usr/local/lib/python3.10/dist-packages/IPython/core/pylabtools.py:151: UserWarning: Glyph 23526 (\\N{CJK UNIFIED IDEOGRAPH-5BE6}) missing from current font.\n",
            "  fig.canvas.print_figure(bytes_io, **kw)\n",
            "/usr/local/lib/python3.10/dist-packages/IPython/core/pylabtools.py:151: UserWarning: Glyph 38555 (\\N{CJK UNIFIED IDEOGRAPH-969B}) missing from current font.\n",
            "  fig.canvas.print_figure(bytes_io, **kw)\n",
            "/usr/local/lib/python3.10/dist-packages/IPython/core/pylabtools.py:151: UserWarning: Glyph 40165 (\\N{CJK UNIFIED IDEOGRAPH-9CE5}) missing from current font.\n",
            "  fig.canvas.print_figure(bytes_io, **kw)\n"
          ]
        },
        {
          "output_type": "display_data",
          "data": {
            "text/plain": [
              "<Figure size 640x480 with 1 Axes>"
            ],
            "image/png": "[encoded data removed]"
          },
          "metadata": {}
        }
      ]
    },
    {
      "cell_type": "markdown",
      "source": [
        "查看預測效果"
      ],
      "metadata": {
        "id": "ngNLihUZxKg9"
      }
    },
    {
      "cell_type": "code",
      "source": [
        "\n",
        "score = model.evaluate(x_test, y_test)\n"
      ],
      "metadata": {
        "colab": {
          "base_uri": "https://localhost:8080/"
        },
        "id": "jfN5okDeiCdG",
        "outputId": "1c1e83a9-08ad-4f2c-a385-5634e4130e17"
      },
      "execution_count": null,
      "outputs": [
        {
          "output_type": "stream",
          "name": "stdout",
          "text": [
            "313/313 [==============================] - 1s 3ms/step - loss: 1.5998 - accuracy: 0.5151\n"
          ]
        }
      ]
    },
    {
      "cell_type": "code",
      "source": [
        "print('loss:', score[0])\n",
        "print('正確率', score[1])"
      ],
      "metadata": {
        "colab": {
          "base_uri": "https://localhost:8080/"
        },
        "id": "wWWjROnKiG1r",
        "outputId": "e81d80d6-4a06-45ff-9026-707ca8095602"
      },
      "execution_count": null,
      "outputs": [
        {
          "output_type": "stream",
          "name": "stdout",
          "text": [
            "loss: 1.5998305082321167\n",
            "正確率 0.5151000022888184\n"
          ]
        }
      ]
    },
    {
      "cell_type": "markdown",
      "source": [
        "儲存model"
      ],
      "metadata": {
        "id": "N0EsgFb7ySVX"
      }
    },
    {
      "cell_type": "code",
      "metadata": {
        "colab": {
          "base_uri": "https://localhost:8080/"
        },
        "id": "XxoK0QYQyj4s",
        "outputId": "a1764a1d-55c4-42db-f477-dfb603d68eb2"
      },
      "source": [
        "from google.colab import drive\n",
        "\n",
        "drive.mount('/content/drive')"
      ],
      "execution_count": null,
      "outputs": [
        {
          "output_type": "stream",
          "name": "stdout",
          "text": [
            "Mounted at /content/drive\n"
          ]
        }
      ]
    },
    {
      "cell_type": "code",
      "metadata": {
        "colab": {
          "base_uri": "https://localhost:8080/"
        },
        "id": "dK0UP55c09hc",
        "outputId": "e7f05ceb-23f6-48d7-a212-a629bdbb53f1"
      },
      "source": [
        "%cd '/content/drive/My Drive/Colab Notebooks'"
      ],
      "execution_count": null,
      "outputs": [
        {
          "output_type": "stream",
          "name": "stdout",
          "text": [
            "/content/drive/My Drive/Colab Notebooks\n"
          ]
        }
      ]
    },
    {
      "cell_type": "code",
      "metadata": {
        "id": "sguipFRK0_cH"
      },
      "source": [
        "model.save('my_dnn_model')"
      ],
      "execution_count": null,
      "outputs": []
    }
  ]
}